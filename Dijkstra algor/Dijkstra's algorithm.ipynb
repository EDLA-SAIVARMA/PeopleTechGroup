{
 "cells": [
  {
   "cell_type": "code",
   "execution_count": 18,
   "id": "8755c552",
   "metadata": {},
   "outputs": [
    {
     "name": "stdout",
     "output_type": "stream",
     "text": [
      "6 7\n",
      "A B 4\n",
      "A C 2\n",
      "B C 5\n",
      "B D 10\n",
      "C E 3\n",
      "D F 11\n",
      "E D 4\n",
      "A D\n",
      "Path Exisits A to D with cost 9\n"
     ]
    }
   ],
   "source": [
    "import heapq\n",
    "from collections import defaultdict\n",
    "def shortestPath(graph, src, dest):\n",
    "    \n",
    "    h = []\n",
    "    # keep a track record of vertices with the cost\n",
    "    # heappop will return vertex with least cost\n",
    "    # SRC -> MIN - > MIN -> MIN -> DEST\n",
    "    heapq.heappush(h,(0, src))\n",
    "    while len(h)!=0:\n",
    "        currcost, currvtx = heapq.heappop(h)\n",
    "        if currvtx == dest:\n",
    "            print(\"Path Exisits {} to {} with cost {}\". format(src, dest, currcost))\n",
    "            break\n",
    "        for neigh, neighcost in graph[currvtx]:\n",
    "            heapq. heappush(h,(currcost +neighcost,neigh))\n",
    "            \n",
    "graph = defaultdict(list)\n",
    "v, e = map(int, input().split())\n",
    "for i in range(e):\n",
    "    u, v,w = map(str, input().split())\n",
    "    graph[u].append ((v,int(w)))\n",
    "src, dest = map(str, input().split())\n",
    "shortestPath(graph, src,dest)"
   ]
  }
 ],
 "metadata": {
  "kernelspec": {
   "display_name": "Python 3 (ipykernel)",
   "language": "python",
   "name": "python3"
  },
  "language_info": {
   "codemirror_mode": {
    "name": "ipython",
    "version": 3
   },
   "file_extension": ".py",
   "mimetype": "text/x-python",
   "name": "python",
   "nbconvert_exporter": "python",
   "pygments_lexer": "ipython3",
   "version": "3.11.5"
  }
 },
 "nbformat": 4,
 "nbformat_minor": 5
}
