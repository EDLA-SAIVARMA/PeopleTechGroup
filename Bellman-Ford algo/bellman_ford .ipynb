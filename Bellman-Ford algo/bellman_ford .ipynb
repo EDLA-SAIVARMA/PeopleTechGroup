{
 "cells": [
  {
   "cell_type": "code",
   "execution_count": 28,
   "id": "e41b7e29",
   "metadata": {},
   "outputs": [
    {
     "name": "stdout",
     "output_type": "stream",
     "text": [
      "{1: 0, 2: 2, 3: 0, 4: 4, 5: -1}\n"
     ]
    }
   ],
   "source": [
    "ipt = [[1, 2, 2],[1,3, 1],[2,3, - 2],[2, 4, 2],[3,5, -1]]\n",
    "n = 5\n",
    "distance = {}\n",
    "for i in range (1, n+1) : # fixing the distance to infinity\n",
    "    distance [i] = 10**6+1\n",
    "distance [1] = 0 # making the source distance as 0\n",
    "for _ in range (n-1): # limitig the no of sweeps\n",
    "       for u,v,d in ipt:\n",
    "        if distance[u] < 10**6 and d+distance[u] < distance[v]: # checking the distance\n",
    "            distance[v] = d+distance[u]\n",
    "print (distance)"
   ]
  }
 ],
 "metadata": {
  "kernelspec": {
   "display_name": "Python 3 (ipykernel)",
   "language": "python",
   "name": "python3"
  },
  "language_info": {
   "codemirror_mode": {
    "name": "ipython",
    "version": 3
   },
   "file_extension": ".py",
   "mimetype": "text/x-python",
   "name": "python",
   "nbconvert_exporter": "python",
   "pygments_lexer": "ipython3",
   "version": "3.11.5"
  }
 },
 "nbformat": 4,
 "nbformat_minor": 5
}
