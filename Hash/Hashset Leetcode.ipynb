{
 "cells": [
  {
   "cell_type": "code",
   "execution_count": 22,
   "id": "66cad5c8",
   "metadata": {},
   "outputs": [
    {
     "name": "stdout",
     "output_type": "stream",
     "text": [
      "[\"MyHashSet\", \"add\", \"add\", \"contains\", \"contains\", \"add\", \"contains\", \"remove\", \"contains\"]\n",
      "[[], [1], [2], [1], [3], [2], [2], [2], [2]]\n",
      "\"add\",\n",
      "<class 'str'>\n",
      "\"add\",\n",
      "<class 'str'>\n",
      "\"contains\",\n",
      "<class 'str'>\n",
      "\"contains\",\n",
      "<class 'str'>\n",
      "\"add\",\n",
      "<class 'str'>\n",
      "\"contains\",\n",
      "<class 'str'>\n",
      "\"remove\",\n",
      "<class 'str'>\n",
      "\"contains\"]\n",
      "<class 'str'>\n"
     ]
    }
   ],
   "source": [
    "class MyHashSet(object):\n",
    "\n",
    "    def __init__(self):\n",
    "        self.Max = len(arr)\n",
    "        \n",
    "    def get_hash(self,key): # getting the ASCII value using the ord() function\n",
    "        h=0\n",
    "        for char in key:\n",
    "            h = h+ord(char)\n",
    "        return h%self.Max    \n",
    "\n",
    "    def added(self, key):\n",
    "        print(\"inside added\")\n",
    "        return 1\n",
    "     \n",
    "\n",
    "        \n",
    "        \n",
    "        \"\"\"\n",
    "        :type key: int\n",
    "        :rtype: None\n",
    "        \"\"\"\n",
    "        \n",
    "\n",
    "    def remove(self, key):\n",
    "        \"\"\"\n",
    "        :type key: int\n",
    "        :rtype: None\n",
    "        \"\"\"\n",
    "        \n",
    "\n",
    "    def contains(self, key):\n",
    "        \"\"\"\n",
    "        :type key: int\n",
    "        :rtype: bool\n",
    "        \"\"\"\n",
    "        \n",
    "obj = MyHashSet()\n",
    "arr = list(map(str, input().split()))\n",
    "array2 = list(map(list, input().split()))\n",
    "for i in range(1,len(arr)):\n",
    "    operation = arr[i]\n",
    "    print(operation)\n",
    "    print(type(operation))\n",
    "    if operation == 'add':\n",
    "        print(\"inside if\")\n",
    "        t=obj.added(\"add\")\n",
    "        print(t)\n",
    "\n",
    "\n",
    "# Your MyHashSet object will be instantiated and called as such:\n",
    "#obj.add(key)\n",
    " #obj.remove(key)\n",
    " #param_3 = obj.contains(key)"
   ]
  },
  {
   "cell_type": "code",
   "execution_count": null,
   "id": "df68194c",
   "metadata": {},
   "outputs": [],
   "source": [
    "[\"MyHashSet\", \"add\", \"add\", \"contains\", \"contains\", \"add\", \"contains\", \"remove\", \"contains\"]\n",
    "[[], [1], [2], [1], [3], [2], [2], [2], [2]]"
   ]
  },
  {
   "cell_type": "code",
   "execution_count": 23,
   "id": "18e1ab48",
   "metadata": {},
   "outputs": [
    {
     "name": "stdout",
     "output_type": "stream",
     "text": [
      "Enter operations: [\"MyHashSet\", \"add\", \"add\", \"contains\", \"contains\", \"add\", \"contains\", \"remove\", \"contains\"]\n",
      "Enter values: [[], [1], [2], [1], [3], [2], [2], [2], [2]]\n"
     ]
    }
   ],
   "source": [
    "class MyHashSet:\n",
    "    def __init__(self):\n",
    "        self.set = set()\n",
    "        \n",
    "    def added(self, value):\n",
    "        self.set.add(value)\n",
    "        return self.set\n",
    "\n",
    "# Create an instance of MyHashSet\n",
    "obj = MyHashSet()\n",
    "\n",
    "# Input: operations\n",
    "arr = list(map(str, input(\"Enter operations: \").split()))\n",
    "\n",
    "# Input: values\n",
    "array2 = list(map(str, input(\"Enter values: \").split()))\n",
    "\n",
    "# Iterate through the operations\n",
    "for i in range(len(arr)):\n",
    "    operation = arr[i]\n",
    "    value = array2[i]  # assuming there is a corresponding value in array2 for each operation\n",
    "\n",
    "    if operation == \"add\":\n",
    "        t = obj.added(value)\n",
    "        print(f\"Added {value}: {t}\")\n"
   ]
  },
  {
   "cell_type": "code",
   "execution_count": null,
   "id": "dab98355",
   "metadata": {},
   "outputs": [],
   "source": []
  },
  {
   "cell_type": "code",
   "execution_count": 26,
   "id": "473e6dec",
   "metadata": {},
   "outputs": [
    {
     "name": "stdout",
     "output_type": "stream",
     "text": [
      "Enter operations: [\"MyHashSet\", \"add\", \"add\", \"contains\", \"contains\", \"add\", \"contains\", \"remove\", \"contains\"]\n",
      "Enter values: [[], [1], [2], [1], [3], [2], [2], [2], [2]]\n",
      "Final state of the hash set:\n"
     ]
    }
   ],
   "source": [
    "class MyHashSet:\n",
    "    def __init__(self):\n",
    "        self.Max = 1000  # Large enough size to minimize collisions\n",
    "        self.arr = [[] for _ in range(self.Max)]\n",
    "    \n",
    "    def get_hash(self, key):\n",
    "        return key % self.Max\n",
    "    \n",
    "    def add(self, key):\n",
    "        h = self.get_hash(key)\n",
    "        if key not in self.arr[h]:\n",
    "            self.arr[h].append(key)\n",
    "    \n",
    "    def remove(self, key):\n",
    "        h = self.get_hash(key)\n",
    "        if key in self.arr[h]:\n",
    "            self.arr[h].remove(key)\n",
    "    \n",
    "    def contains(self, key):\n",
    "        h = self.get_hash(key)\n",
    "        return key in self.arr[h]\n",
    "\n",
    "# Input handling and example usage\n",
    "if __name__ == \"__main__\":\n",
    "    obj = MyHashSet()\n",
    "\n",
    "    # Input: operations\n",
    "    operations = input(\"Enter operations: \").strip()[1:-1].split(\", \")\n",
    "\n",
    "    # Input: values\n",
    "    values = input(\"Enter values: \").strip()[1:-1].split(\"], [\")\n",
    "    values = [v.replace(\"[\", \"\").replace(\"]\", \"\") for v in values]\n",
    "\n",
    "    for i in range(1, len(operations)):\n",
    "        operation = operations[i]\n",
    "        value = int(values[i]) if values[i] else None\n",
    "\n",
    "        if operation == \"add\" and value is not None:\n",
    "            obj.add(value)\n",
    "            print(f\"Added {value}\")\n",
    "        elif operation == \"remove\" and value is not None:\n",
    "            obj.remove(value)\n",
    "            print(f\"Removed {value}\")\n",
    "        elif operation == \"contains\" and value is not None:\n",
    "            result = obj.contains(value)\n",
    "            print(f\"Contains {value}: {result}\")\n",
    "\n",
    "    # Output the final state of the hash set\n",
    "    print(\"Final state of the hash set:\")\n",
    "    for i, bucket in enumerate(obj.arr):\n",
    "        if bucket:\n",
    "            print(f\"Bucket {i}: {bucket}\")\n",
    "\n"
   ]
  }
 ],
 "metadata": {
  "kernelspec": {
   "display_name": "Python 3 (ipykernel)",
   "language": "python",
   "name": "python3"
  },
  "language_info": {
   "codemirror_mode": {
    "name": "ipython",
    "version": 3
   },
   "file_extension": ".py",
   "mimetype": "text/x-python",
   "name": "python",
   "nbconvert_exporter": "python",
   "pygments_lexer": "ipython3",
   "version": "3.11.5"
  }
 },
 "nbformat": 4,
 "nbformat_minor": 5
}
