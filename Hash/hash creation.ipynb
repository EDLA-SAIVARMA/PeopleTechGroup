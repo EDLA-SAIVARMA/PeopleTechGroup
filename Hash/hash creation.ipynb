{
 "cells": [
  {
   "cell_type": "code",
   "execution_count": 37,
   "id": "3804fcb7",
   "metadata": {},
   "outputs": [
    {
     "name": "stdout",
     "output_type": "stream",
     "text": [
      "81\n",
      "None\n",
      "[None, None, None, None, None, None, None, None, None, 312, None, None, None, None, None, None, None, None, None, None, None, None, None, None, None, None, None, None, None, None, None, 993, None, None, None, None, None, None, 81, None, None, None, None, None, None, None, None, None, None, None, None, None, None, None, 333, None, None, None, None, None, None, None, None, None, None, None, None, None, None, None, None, None, None, None, None, None, None, None, None, None, None, None, None, None, None, None, None, None, None, None, None, None, None, None, None, None, None, None, None, None]\n"
     ]
    }
   ],
   "source": [
    "class HashTable:\n",
    "    def __init__(self): # setting the array\n",
    "        self.Max = 100\n",
    "        self.arr = [None for i in range (self.Max)]\n",
    "    \n",
    "    def get_hash(self,key): # getting the ASCII value using the ord() function\n",
    "        h=0\n",
    "        for char in key:\n",
    "            h = h+ord(char)\n",
    "        return h%self.Max\n",
    "    \n",
    "    def __setitem__(self,key,value): #assinging the values to the indexes\n",
    "        h = self.get_hash(key)\n",
    "        self.arr[h] = value\n",
    "        \n",
    "    def __getitem__(self,key): # printing the values assigned to the keys\n",
    "        h = self.get_hash(key)\n",
    "        return self.arr[h]\n",
    "    \n",
    "    def __delitem__(self,key): # deleting the record\n",
    "        print(\"deleted value is:\" ,key)\n",
    "        h = self.get_hash(key)\n",
    "        self.arr[h] = None\n",
    "\n",
    "    \n",
    "t=HashTable()\n",
    "t['march 6'] = 312\n",
    "t['march 12'] = 333\n",
    "t['dec 12'] = 993\n",
    "t['dec 19'] = 81\n",
    "print(t['dec 19'])\n",
    "print(t['dec 10'])\n",
    "print(t.arr)\n",
    "\n"
   ]
  },
  {
   "cell_type": "code",
   "execution_count": 38,
   "id": "784dae7f",
   "metadata": {},
   "outputs": [
    {
     "name": "stdout",
     "output_type": "stream",
     "text": [
      "81\n",
      "deleted value is: dec 19\n",
      "[None, None, None, None, None, None, None, None, None, 312, None, None, None, None, None, None, None, None, None, None, None, None, None, None, None, None, None, None, None, None, None, 993, None, None, None, None, None, None, None, None, None, None, None, None, None, None, None, None, None, None, None, None, None, None, 333, None, None, None, None, None, None, None, None, None, None, None, None, None, None, None, None, None, None, None, None, None, None, None, None, None, None, None, None, None, None, None, None, None, None, None, None, None, None, None, None, None, None, None, None, None]\n"
     ]
    }
   ],
   "source": [
    "print(t['dec 19'])\n",
    "del t['dec 19']\n",
    "print(t.arr)"
   ]
  }
 ],
 "metadata": {
  "kernelspec": {
   "display_name": "Python 3 (ipykernel)",
   "language": "python",
   "name": "python3"
  },
  "language_info": {
   "codemirror_mode": {
    "name": "ipython",
    "version": 3
   },
   "file_extension": ".py",
   "mimetype": "text/x-python",
   "name": "python",
   "nbconvert_exporter": "python",
   "pygments_lexer": "ipython3",
   "version": "3.11.5"
  }
 },
 "nbformat": 4,
 "nbformat_minor": 5
}
