{
 "cells": [
  {
   "cell_type": "code",
   "execution_count": 42,
   "id": "fe99385a",
   "metadata": {},
   "outputs": [
    {
     "name": "stdout",
     "output_type": "stream",
     "text": [
      "[[], [('dec 12', 993)], [], [], [('march 12', 333)], [], [], [], [], [('march 6', 312), ('march 17', 442)]]\n",
      "312\n",
      "deleted value is: march 6\n",
      "[[], [('dec 12', 993)], [], [], [('march 12', 333)], [], [], [], [], [('march 17', 442)]]\n"
     ]
    }
   ],
   "source": [
    "class HashTable:\n",
    "    def __init__(self): # setting the array\n",
    "        self.Max = 10\n",
    "        self.arr = [[] for i in range (self.Max)] # creating a list\n",
    "    \n",
    "    def get_hash(self,key): # getting the ASCII value using the ord() function\n",
    "        h=0\n",
    "        for char in key:\n",
    "            h = h+ord(char)\n",
    "        return h%self.Max\n",
    "    \n",
    "    def __setitem__(self,key,value): #assinging the values to the indexes\n",
    "        h = self.get_hash(key)\n",
    "        found = False\n",
    "        \n",
    "        for index, element in enumerate(self.arr[h]): # overcoming the collision and setting the value\n",
    "            if len(element) == 2 and element[0] == key:\n",
    "                self.arr[h][index] = (key,value)\n",
    "                found = True\n",
    "                break\n",
    "                \n",
    "        if not found:\n",
    "            self.arr[h].append((key,value))\n",
    "        \n",
    "    def __getitem__(self,key): # printing the values assigned to the keys\n",
    "        h = self.get_hash(key)\n",
    "        \n",
    "        for element in self.arr[h]: # checking the indexes and getting the required key value\n",
    "            if element[0] == key:\n",
    "                return element[1]\n",
    "    \n",
    "    def __delitem__(self,key): # deleting the record\n",
    "        print(\"deleted value is:\" ,key)\n",
    "        h = self.get_hash(key)\n",
    "        for index, element in enumerate(self.arr[h]): # getting to know the index first and then deleting\n",
    "            if element[0] == key:\n",
    "                del self.arr[h][index] \n",
    "\n",
    "\n",
    "    \n",
    "t=HashTable()\n",
    "t[\"march 6\"] = 312\n",
    "t[\"march 12\"] = 333\n",
    "t[\"dec 12\"] = 993\n",
    "t[\"march 17\"] = 442\n",
    "print(t.arr)\n",
    "print(t[\"march 6\"])\n",
    "del t[\"march 6\"]\n",
    "print(t.arr)"
   ]
  },
  {
   "cell_type": "code",
   "execution_count": null,
   "id": "d8792647",
   "metadata": {},
   "outputs": [],
   "source": []
  },
  {
   "cell_type": "code",
   "execution_count": null,
   "id": "0636aa34",
   "metadata": {},
   "outputs": [],
   "source": []
  },
  {
   "cell_type": "code",
   "execution_count": null,
   "id": "b5176e1c",
   "metadata": {},
   "outputs": [],
   "source": []
  },
  {
   "cell_type": "code",
   "execution_count": null,
   "id": "d5974cd1",
   "metadata": {},
   "outputs": [],
   "source": []
  },
  {
   "cell_type": "code",
   "execution_count": null,
   "id": "7010a91b",
   "metadata": {},
   "outputs": [],
   "source": []
  },
  {
   "cell_type": "code",
   "execution_count": null,
   "id": "c2794fbd",
   "metadata": {},
   "outputs": [],
   "source": []
  },
  {
   "cell_type": "code",
   "execution_count": null,
   "id": "972eaac2",
   "metadata": {},
   "outputs": [],
   "source": []
  },
  {
   "cell_type": "code",
   "execution_count": 50,
   "id": "8df366b3",
   "metadata": {},
   "outputs": [
    {
     "name": "stdout",
     "output_type": "stream",
     "text": [
      "330\n"
     ]
    },
    {
     "data": {
      "text/plain": [
       "[[],\n",
       " [],\n",
       " [('march 9', 340)],\n",
       " [],\n",
       " [],\n",
       " [],\n",
       " [],\n",
       " [],\n",
       " [('march 16', 350)],\n",
       " [('march 6', 330), ('march 17', 360)]]"
      ]
     },
     "execution_count": 50,
     "metadata": {},
     "output_type": "execute_result"
    }
   ],
   "source": [
    "class HashTable:\n",
    "    def __init__(self):\n",
    "        self.Max = 10\n",
    "        self.arr = [[] for i in range(self.Max)]\n",
    "        \n",
    "    def hashfun(self,key):\n",
    "        h=0\n",
    "        for char in key:\n",
    "            h = h+ord(char)\n",
    "        return h%self.Max\n",
    "    \n",
    "    def __setitem__(self,key,value):\n",
    "        h = self.hashfun(key)\n",
    "        \n",
    "        found = False\n",
    "        for index, element in enumerate(self.arr[h]):\n",
    "            if len(element) and element[0] == key:\n",
    "                self.arr[h][index] = (key,value)\n",
    "                found = True\n",
    "                break\n",
    "        if not found:\n",
    "            self.arr[h].append((key,value))\n",
    "            \n",
    "    def __getitem__(self,key):\n",
    "        h = self.hashfun(key)\n",
    "        for element in self.arr[h]:\n",
    "            if element[0] == key:\n",
    "                return element[1]\n",
    "            \n",
    "        \n",
    "    def __delitem__(self,key):\n",
    "        h = self.hashfun(key)\n",
    "        for element in (self.arr[h]):\n",
    "            if self.arr[h][element] == key:\n",
    "                del self.arr[h][index]\n",
    "                \n",
    "t= HashTable()\n",
    "t[\"march 6\"] = 330\n",
    "t[\"march 9\"] = 340 \n",
    "t[\"march 16\"] = 350\n",
    "t[\"march 17\"] = 360\n",
    "print(t[\"march 6\"])\n",
    "del t[\"march 6\"]\n",
    "t.arr\n",
    "            \n",
    "            \n",
    "            \n",
    "            \n",
    "            \n",
    "            \n",
    "            \n",
    "            \n",
    "            \n",
    "        "
   ]
  },
  {
   "cell_type": "code",
   "execution_count": null,
   "id": "bae31ac7",
   "metadata": {},
   "outputs": [],
   "source": []
  }
 ],
 "metadata": {
  "kernelspec": {
   "display_name": "Python 3 (ipykernel)",
   "language": "python",
   "name": "python3"
  },
  "language_info": {
   "codemirror_mode": {
    "name": "ipython",
    "version": 3
   },
   "file_extension": ".py",
   "mimetype": "text/x-python",
   "name": "python",
   "nbconvert_exporter": "python",
   "pygments_lexer": "ipython3",
   "version": "3.11.5"
  }
 },
 "nbformat": 4,
 "nbformat_minor": 5
}
