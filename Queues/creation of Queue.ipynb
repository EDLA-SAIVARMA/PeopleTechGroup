{
 "cells": [
  {
   "cell_type": "markdown",
   "id": "9f30f8a0",
   "metadata": {},
   "source": [
    "# creation of queue"
   ]
  },
  {
   "cell_type": "code",
   "execution_count": 5,
   "id": "67a47267",
   "metadata": {},
   "outputs": [
    {
     "name": "stdout",
     "output_type": "stream",
     "text": [
      "deque([10, 20, 30])\n",
      "deque([20, 30])\n",
      "deque([20, 30, 40])\n"
     ]
    }
   ],
   "source": [
    "from collections import deque\n",
    "\n",
    "data = deque()\n",
    "\n",
    "data.append(10)\n",
    "data.append(20)\n",
    "data.append(30)\n",
    "print(data)\n",
    "data.popleft()\n",
    "print(data)\n",
    "data.append(40)\n",
    "print(data)     "
   ]
  }
 ],
 "metadata": {
  "kernelspec": {
   "display_name": "Python 3 (ipykernel)",
   "language": "python",
   "name": "python3"
  },
  "language_info": {
   "codemirror_mode": {
    "name": "ipython",
    "version": 3
   },
   "file_extension": ".py",
   "mimetype": "text/x-python",
   "name": "python",
   "nbconvert_exporter": "python",
   "pygments_lexer": "ipython3",
   "version": "3.11.5"
  }
 },
 "nbformat": 4,
 "nbformat_minor": 5
}
