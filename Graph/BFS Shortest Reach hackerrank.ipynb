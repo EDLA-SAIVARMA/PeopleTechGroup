{
 "cells": [
  {
   "cell_type": "code",
   "execution_count": 23,
   "id": "30befc4a",
   "metadata": {},
   "outputs": [
    {
     "name": "stdout",
     "output_type": "stream",
     "text": [
      "2\n",
      "7 5\n",
      "3 5\n",
      "3 6\n",
      "5 2\n",
      "6 4\n",
      "4 1\n",
      "3\n",
      "18 12 12 6 6 -1\n",
      "7 5\n",
      "1 2\n",
      "1 3\n",
      "2 4\n",
      "3 5\n",
      "5 6\n",
      "1\n",
      "6 6 12 12 18 -1\n"
     ]
    }
   ],
   "source": [
    "import collections\n",
    "\n",
    "def bfs(graph, root, node_count):\n",
    "    distances = [-1] * (node_count + 1)  # Initialize distances with -1\n",
    "    distances[root] = 0  # Distance to the root node is 0\n",
    "    \n",
    "    queue = collections.deque([root])\n",
    "    \n",
    "    while queue:\n",
    "        vertex = queue.popleft()\n",
    "        \n",
    "        for n in graph[vertex]:\n",
    "            if distances[n] == -1:  # Not visited\n",
    "                queue.append(n)\n",
    "                distances[n] = distances[vertex] + 6  # Edge weight is 6\n",
    "    \n",
    "    return distances\n",
    "\n",
    "# Reading input\n",
    "q = int(input())  # Number of test cases\n",
    "\n",
    "for _ in range(q):  # Loop through each test case\n",
    "    nodes = list(map(int, input().split()))  # Read number of nodes and edges\n",
    "    node = nodes[0]\n",
    "    edges = nodes[1]\n",
    "    \n",
    "    # Initialize the graph with empty lists for all nodes\n",
    "    graph = {i: [] for i in range(1, node + 1)}\n",
    "    \n",
    "    for _ in range(edges):  # Loop through each edge\n",
    "        edge = list(map(int, input().split()))  # Read the edge\n",
    "        # Since the graph is undirected, add both directions\n",
    "        graph[edge[0]].append(edge[1])\n",
    "        graph[edge[1]].append(edge[0])\n",
    "    \n",
    "    s = int(input())  # Read the starting node for BFS\n",
    "    distances = bfs(graph, s, node)  # Perform BFS\n",
    "    \n",
    "    # Print distances except for the starting node\n",
    "    output = []\n",
    "    for i in range(1, node + 1):\n",
    "        if i != s:\n",
    "            output.append(str(distances[i]))\n",
    "    print(' '.join(output))\n"
   ]
  },
  {
   "cell_type": "code",
   "execution_count": null,
   "id": "db4cad9e",
   "metadata": {},
   "outputs": [],
   "source": []
  }
 ],
 "metadata": {
  "kernelspec": {
   "display_name": "Python 3 (ipykernel)",
   "language": "python",
   "name": "python3"
  },
  "language_info": {
   "codemirror_mode": {
    "name": "ipython",
    "version": 3
   },
   "file_extension": ".py",
   "mimetype": "text/x-python",
   "name": "python",
   "nbconvert_exporter": "python",
   "pygments_lexer": "ipython3",
   "version": "3.11.5"
  }
 },
 "nbformat": 4,
 "nbformat_minor": 5
}
