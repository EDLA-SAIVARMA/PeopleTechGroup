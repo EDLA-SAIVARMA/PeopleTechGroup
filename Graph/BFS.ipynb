{
 "cells": [
  {
   "cell_type": "code",
   "execution_count": 9,
   "id": "80c18b07",
   "metadata": {},
   "outputs": [
    {
     "name": "stdout",
     "output_type": "stream",
     "text": [
      "{0: [1, 2, 3], 1: [2, 0], 2: [0, 1, 4], 3: [0], 4: [2]}\n",
      "{0, 1, 2, 3, 4}\n"
     ]
    }
   ],
   "source": [
    "import collections\n",
    "def bfs(graph,root):\n",
    "    # set doesn't allow duplicates\n",
    "    visited = set()\n",
    "    queue = collections.deque([root])\n",
    "    \n",
    "    while queue:\n",
    "        vertex = queue.popleft()\n",
    "        visited.add(vertex)\n",
    "        for i in graph[vertex]:\n",
    "            if i not in visited:\n",
    "                queue.append(i)\n",
    "        \n",
    "    print(visited)\n",
    "            \n",
    "\n",
    "if __name__ == '__main__':\n",
    "    # creation of dictionary\n",
    "    graph = {0:[1,2,3], 1:[2,0],2:[0,1,4],3:[0],4:[2]}\n",
    "    # calling the function\n",
    "    bfs(graph,0)"
   ]
  }
 ],
 "metadata": {
  "kernelspec": {
   "display_name": "Python 3 (ipykernel)",
   "language": "python",
   "name": "python3"
  },
  "language_info": {
   "codemirror_mode": {
    "name": "ipython",
    "version": 3
   },
   "file_extension": ".py",
   "mimetype": "text/x-python",
   "name": "python",
   "nbconvert_exporter": "python",
   "pygments_lexer": "ipython3",
   "version": "3.11.5"
  }
 },
 "nbformat": 4,
 "nbformat_minor": 5
}
