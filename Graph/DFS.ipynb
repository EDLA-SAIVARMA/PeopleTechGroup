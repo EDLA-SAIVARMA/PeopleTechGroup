{
 "cells": [
  {
   "cell_type": "code",
   "execution_count": 10,
   "id": "7945630f",
   "metadata": {},
   "outputs": [
    {
     "name": "stdout",
     "output_type": "stream",
     "text": [
      "A\n",
      "B\n",
      "E\n",
      "C\n",
      "D\n"
     ]
    }
   ],
   "source": [
    "\n",
    "def dfs(graph,visited,root):\n",
    "    if root not in visited:\n",
    "        print(root)\n",
    "        vertex = root\n",
    "        for n in graph[vertex]:\n",
    "            dfs(graph,visited,n)\n",
    "            \n",
    "if __name__ == '__main__':\n",
    "    graph = {'A':['B','C','D'], 'B':['E'], 'C':[], 'D':[], 'E':[]}\n",
    "    visited = set()\n",
    "    dfs(graph,visited,'A')\n",
    "\n",
    "            "
   ]
  }
 ],
 "metadata": {
  "kernelspec": {
   "display_name": "Python 3 (ipykernel)",
   "language": "python",
   "name": "python3"
  },
  "language_info": {
   "codemirror_mode": {
    "name": "ipython",
    "version": 3
   },
   "file_extension": ".py",
   "mimetype": "text/x-python",
   "name": "python",
   "nbconvert_exporter": "python",
   "pygments_lexer": "ipython3",
   "version": "3.11.5"
  }
 },
 "nbformat": 4,
 "nbformat_minor": 5
}
