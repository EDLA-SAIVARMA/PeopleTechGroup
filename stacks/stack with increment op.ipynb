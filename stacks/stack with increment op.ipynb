{
 "cells": [
  {
   "cell_type": "code",
   "execution_count": null,
   "id": "bdcdb45d",
   "metadata": {},
   "outputs": [],
   "source": [
    "class CustomStack:\n",
    "    # Initialize the stack with a given maximum size\n",
    "    def __init__(self, maxSize: int):\n",
    "        # The stack itself, initially empty\n",
    "        self.stack = []\n",
    "        # The maximum length the stack can reach\n",
    "        self.maxLength = maxSize\n",
    "\n",
    "    # Push a value onto the stack if it has not reached the maximum size\n",
    "    def push(self, x: int) -> None:\n",
    "        # Check if the current size of the stack is less than the maximum size\n",
    "        if len(self.stack) < self.maxLength:\n",
    "            # Append the value to the stack\n",
    "            self.stack.append(x)\n",
    "\n",
    "    # Pop a value from the stack and return it; return -1 if the stack is empty\n",
    "    def pop(self) -> int:\n",
    "        # Check if the stack is not empty\n",
    "        if len(self.stack) > 0:\n",
    "            # Pop and return the top value from the stack\n",
    "            return self.stack.pop()\n",
    "        # Return -1 if the stack is empty\n",
    "        return -1\n",
    "\n",
    "    # Increment the bottom k elements of the stack by a given value\n",
    "    def increment(self, k: int, val: int) -> None:\n",
    "        # Determine the number of elements to increment (the smaller of k and the stack's length)\n",
    "        n = min(k, len(self.stack))\n",
    "        # Increment each of the first n elements by the given value\n",
    "        for i in range(n):\n",
    "            self.stack[i] += val\n"
   ]
  }
 ],
 "metadata": {
  "kernelspec": {
   "display_name": "Python 3 (ipykernel)",
   "language": "python",
   "name": "python3"
  },
  "language_info": {
   "codemirror_mode": {
    "name": "ipython",
    "version": 3
   },
   "file_extension": ".py",
   "mimetype": "text/x-python",
   "name": "python",
   "nbconvert_exporter": "python",
   "pygments_lexer": "ipython3",
   "version": "3.11.5"
  }
 },
 "nbformat": 4,
 "nbformat_minor": 5
}
