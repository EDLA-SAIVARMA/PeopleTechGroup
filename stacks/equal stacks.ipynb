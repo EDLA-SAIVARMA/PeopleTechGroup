{
 "cells": [
  {
   "cell_type": "code",
   "execution_count": 38,
   "id": "1fc6544d",
   "metadata": {},
   "outputs": [
    {
     "name": "stdout",
     "output_type": "stream",
     "text": [
      "5 3 4\n",
      "3 2 1 1 1\n",
      "4 3 2\n",
      "1 1 4 1\n",
      "5\n",
      "\n"
     ]
    }
   ],
   "source": [
    "def equalStacks(h1, h2, h3):\n",
    "\n",
    "    # Reversing the arrays\n",
    "    a1 = h1[::-1]\n",
    "    a2 = h2[::-1]\n",
    "    a3 = h3[::-1]\n",
    "\n",
    "    \n",
    "    # Calculating the total heights of each stack\n",
    "    a = sum(a1)\n",
    "    b = sum(a2)\n",
    "    c = sum(a3)\n",
    "    \n",
    "    #pop functions\n",
    "    def popa1():\n",
    "        nonlocal a\n",
    "        if a1:\n",
    "            a -= a1.pop()\n",
    "\n",
    "    def popa2():\n",
    "        nonlocal b\n",
    "        if a2:\n",
    "            b -= a2.pop()\n",
    "\n",
    "    def popa3():\n",
    "        nonlocal c\n",
    "        if a3:\n",
    "            c -= a3.pop()\n",
    "\n",
    "    # Finding the least height of the cylinders and then poping the max value \n",
    "    while True:\n",
    "        if a == b == c:\n",
    "            return a\n",
    "        elif a >= b and a >= c:\n",
    "            popa1()\n",
    "        elif b >= a and b >= c:\n",
    "            popa2()\n",
    "        else:\n",
    "            popa3()\n",
    "\n",
    "if __name__ == '__main__':\n",
    "    first_multiple_input = input().rstrip().split()\n",
    "\n",
    "    n1 = int(first_multiple_input[0])\n",
    "    n2 = int(first_multiple_input[1])\n",
    "    n3 = int(first_multiple_input[2])\n",
    "\n",
    "    h1 = list(map(int, input().rstrip().split()))\n",
    "    h2 = list(map(int, input().rstrip().split()))\n",
    "    h3 = list(map(int, input().rstrip().split()))\n",
    "\n",
    "    result = equalStacks(h1, h2, h3)\n",
    "\n",
    "    print(str(result) + '\\n')\n"
   ]
  }
 ],
 "metadata": {
  "kernelspec": {
   "display_name": "Python 3 (ipykernel)",
   "language": "python",
   "name": "python3"
  },
  "language_info": {
   "codemirror_mode": {
    "name": "ipython",
    "version": 3
   },
   "file_extension": ".py",
   "mimetype": "text/x-python",
   "name": "python",
   "nbconvert_exporter": "python",
   "pygments_lexer": "ipython3",
   "version": "3.11.5"
  }
 },
 "nbformat": 4,
 "nbformat_minor": 5
}
