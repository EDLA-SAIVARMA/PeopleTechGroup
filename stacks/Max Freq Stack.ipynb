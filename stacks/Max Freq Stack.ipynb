{
 "cells": [
  {
   "cell_type": "code",
   "execution_count": 11,
   "id": "4cc683c1",
   "metadata": {},
   "outputs": [],
   "source": [
    "class FreqStack:\n",
    "\n",
    "    def __init__(self):\n",
    "        # Initialize an empty list of stacks to store values at different frequency levels\n",
    "        self.stks = []\n",
    "        # Initialize a default dictionary to keep track of the frequency of each value\n",
    "        self.freq = defaultdict(int)\n",
    "        \n",
    "    def push(self, val: int) -> None:\n",
    "        # Increment the frequency count for the value\n",
    "        self.freq[val] += 1\n",
    "        # If the current frequency of the value is greater than the number of frequency levels, add a new stack\n",
    "        if self.freq[val] > len(self.stks):\n",
    "            self.stks.append([val])\n",
    "        else:\n",
    "            # Otherwise, add the value to the corresponding frequency stack\n",
    "            self.stks[self.freq[val]-1].append(val)\n",
    "            \n",
    "    def pop(self) -> int:\n",
    "        # Remove and retrieve the most frequent value from the highest frequency stack\n",
    "        val = self.stks[-1].pop()\n",
    "        # If the highest frequency stack becomes empty, remove it\n",
    "        if not self.stks[-1]:\n",
    "            self.stks.pop()\n",
    "        # Decrement the frequency count for the value\n",
    "        self.freq[val] -= 1\n",
    "        # Return the popped value\n",
    "        return val\n"
   ]
  },
  {
   "cell_type": "code",
   "execution_count": null,
   "id": "79e40b1d",
   "metadata": {},
   "outputs": [],
   "source": []
  }
 ],
 "metadata": {
  "kernelspec": {
   "display_name": "Python 3 (ipykernel)",
   "language": "python",
   "name": "python3"
  },
  "language_info": {
   "codemirror_mode": {
    "name": "ipython",
    "version": 3
   },
   "file_extension": ".py",
   "mimetype": "text/x-python",
   "name": "python",
   "nbconvert_exporter": "python",
   "pygments_lexer": "ipython3",
   "version": "3.11.5"
  }
 },
 "nbformat": 4,
 "nbformat_minor": 5
}
