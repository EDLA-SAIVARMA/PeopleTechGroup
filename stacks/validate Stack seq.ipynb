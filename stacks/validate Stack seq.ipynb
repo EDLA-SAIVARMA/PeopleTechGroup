{
 "cells": [
  {
   "cell_type": "code",
   "execution_count": null,
   "id": "cd533eaa",
   "metadata": {},
   "outputs": [],
   "source": [
    "class Solution:\n",
    "    def validateStackSequences(self, pushed: List[int], popped: List[int]) -> bool:\n",
    "        # Initialize an empty stack to simulate the push and pop operations\n",
    "        stack = []\n",
    "        # Initialize an index for the popped list\n",
    "        j = 0\n",
    "        # Iterate over each element in the pushed list\n",
    "        for i in pushed:\n",
    "            # Push the element onto the stack\n",
    "            stack.append(i)\n",
    "            # While stack is not empty and the top element of the stack is equal to the current element in popped\n",
    "            while stack != [] and stack[-1] == popped[j]:\n",
    "                # Pop the top element from the stack\n",
    "                stack.pop()\n",
    "                # Move to the next element in the popped list\n",
    "                j += 1\n",
    "        # If the stack is empty, it means the pushed and popped sequences are valid\n",
    "        return stack == []\n"
   ]
  }
 ],
 "metadata": {
  "kernelspec": {
   "display_name": "Python 3 (ipykernel)",
   "language": "python",
   "name": "python3"
  },
  "language_info": {
   "codemirror_mode": {
    "name": "ipython",
    "version": 3
   },
   "file_extension": ".py",
   "mimetype": "text/x-python",
   "name": "python",
   "nbconvert_exporter": "python",
   "pygments_lexer": "ipython3",
   "version": "3.11.5"
  }
 },
 "nbformat": 4,
 "nbformat_minor": 5
}
