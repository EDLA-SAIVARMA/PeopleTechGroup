{
 "cells": [
  {
   "cell_type": "code",
   "execution_count": 22,
   "id": "43cf2c1b",
   "metadata": {},
   "outputs": [
    {
     "name": "stdout",
     "output_type": "stream",
     "text": [
      "append value is: 10\n",
      "append value is: 20\n",
      "append value is: 30\n",
      "append value is: 40\n",
      "40\n",
      "removed value is: 40\n",
      "removed value is: 30\n",
      "20\n"
     ]
    }
   ],
   "source": [
    "class Stacks:\n",
    "    #creation of stack\n",
    "    def __init__(self):\n",
    "        self.items = [] \n",
    "   \n",
    "    #push method()\n",
    "    def push(self, value):\n",
    "        self.items.append(value)\n",
    "        print(\"append value is:\" ,value)\n",
    "        \n",
    "    #pop method    \n",
    "    def pop(self):\n",
    "        if self.items:\n",
    "            value = self.items.pop()\n",
    "            print(\"removed value is:\" ,value)\n",
    "        else:\n",
    "            print(\"empty list\")\n",
    "        \n",
    "    #peek method, to view the current top value of the stack\n",
    "    def peek(self):\n",
    "        if self.items:\n",
    "            return self.items[-1]\n",
    "        else:\n",
    "            print(\"empty stack\")\n",
    "    \n",
    "if __name__ == \"__main__\":\n",
    "    s = Stacks()\n",
    "    s.push(10)\n",
    "    s.push(20)\n",
    "    s.push(30)\n",
    "    s.push(40)\n",
    "    print(s.peek())\n",
    "    s.pop()\n",
    "    s.pop()\n",
    "    print(s.peek())  "
   ]
  },
  {
   "cell_type": "code",
   "execution_count": null,
   "id": "2a6965e5",
   "metadata": {},
   "outputs": [],
   "source": [
    "\n"
   ]
  },
  {
   "cell_type": "code",
   "execution_count": null,
   "id": "8f1ab03c",
   "metadata": {},
   "outputs": [],
   "source": []
  },
  {
   "cell_type": "code",
   "execution_count": null,
   "id": "c020688f",
   "metadata": {},
   "outputs": [],
   "source": []
  },
  {
   "cell_type": "code",
   "execution_count": null,
   "id": "87f29e1f",
   "metadata": {},
   "outputs": [],
   "source": []
  },
  {
   "cell_type": "code",
   "execution_count": null,
   "id": "b20336b0",
   "metadata": {},
   "outputs": [],
   "source": []
  },
  {
   "cell_type": "code",
   "execution_count": null,
   "id": "01aee3d7",
   "metadata": {},
   "outputs": [],
   "source": []
  },
  {
   "cell_type": "code",
   "execution_count": null,
   "id": "4a3fd79b",
   "metadata": {},
   "outputs": [],
   "source": []
  },
  {
   "cell_type": "code",
   "execution_count": 21,
   "id": "07b8ee81",
   "metadata": {},
   "outputs": [
    {
     "name": "stdout",
     "output_type": "stream",
     "text": [
      "empty list\n",
      "None\n"
     ]
    }
   ],
   "source": [
    "class Stack:\n",
    "    def __init__(self):\n",
    "        self.item = []\n",
    "        \n",
    "    def push(self,value):\n",
    "        self.item.append(value)\n",
    "        print(\"appended value is:\" ,value)\n",
    "        \n",
    "    def pop(self):\n",
    "        if self.item:\n",
    "            value = self.item.pop()\n",
    "            print(\"removed value is:\" ,value)\n",
    "        else:\n",
    "            print(\"empty list\")\n",
    "        \n",
    "    def peek(self):\n",
    "        if self.item:\n",
    "            return self.item[-1]\n",
    "        else:\n",
    "            return None\n",
    "\n",
    "if __name__ == \"__main__\":\n",
    "    s=Stack()\n",
    "    s.pop()\n",
    "\n",
    "    print(s.peek())\n",
    "\n",
    "        "
   ]
  },
  {
   "cell_type": "code",
   "execution_count": null,
   "id": "5577b0f1",
   "metadata": {},
   "outputs": [],
   "source": []
  },
  {
   "cell_type": "code",
   "execution_count": null,
   "id": "34816bbc",
   "metadata": {},
   "outputs": [],
   "source": []
  },
  {
   "cell_type": "code",
   "execution_count": null,
   "id": "04b11a40",
   "metadata": {},
   "outputs": [],
   "source": []
  },
  {
   "cell_type": "code",
   "execution_count": null,
   "id": "c081e145",
   "metadata": {},
   "outputs": [],
   "source": []
  },
  {
   "cell_type": "code",
   "execution_count": null,
   "id": "f7cf6ee0",
   "metadata": {},
   "outputs": [],
   "source": []
  },
  {
   "cell_type": "code",
   "execution_count": null,
   "id": "8f5cabe8",
   "metadata": {},
   "outputs": [],
   "source": []
  },
  {
   "cell_type": "code",
   "execution_count": null,
   "id": "34cb5dc2",
   "metadata": {},
   "outputs": [],
   "source": []
  },
  {
   "cell_type": "code",
   "execution_count": null,
   "id": "878c58c1",
   "metadata": {},
   "outputs": [],
   "source": []
  }
 ],
 "metadata": {
  "kernelspec": {
   "display_name": "Python 3 (ipykernel)",
   "language": "python",
   "name": "python3"
  },
  "language_info": {
   "codemirror_mode": {
    "name": "ipython",
    "version": 3
   },
   "file_extension": ".py",
   "mimetype": "text/x-python",
   "name": "python",
   "nbconvert_exporter": "python",
   "pygments_lexer": "ipython3",
   "version": "3.11.5"
  }
 },
 "nbformat": 4,
 "nbformat_minor": 5
}
