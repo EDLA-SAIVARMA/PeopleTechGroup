{
 "cells": [
  {
   "cell_type": "code",
   "execution_count": 2,
   "id": "d4310e64",
   "metadata": {},
   "outputs": [
    {
     "ename": "NameError",
     "evalue": "name 'Optional' is not defined",
     "output_type": "error",
     "traceback": [
      "\u001b[0;31m---------------------------------------------------------------------------\u001b[0m",
      "\u001b[0;31mNameError\u001b[0m                                 Traceback (most recent call last)",
      "Cell \u001b[0;32mIn[2], line 7\u001b[0m\n\u001b[1;32m      1\u001b[0m \u001b[38;5;66;03m# Definition for a binary tree node.\u001b[39;00m\n\u001b[1;32m      2\u001b[0m \u001b[38;5;66;03m# class TreeNode:\u001b[39;00m\n\u001b[1;32m      3\u001b[0m \u001b[38;5;66;03m#     def __init__(self, val=0, left=None, right=None):\u001b[39;00m\n\u001b[1;32m      4\u001b[0m \u001b[38;5;66;03m#         self.val = val\u001b[39;00m\n\u001b[1;32m      5\u001b[0m \u001b[38;5;66;03m#         self.left = left\u001b[39;00m\n\u001b[1;32m      6\u001b[0m \u001b[38;5;66;03m#         self.right = right\u001b[39;00m\n\u001b[0;32m----> 7\u001b[0m \u001b[38;5;28;01mclass\u001b[39;00m \u001b[38;5;21;01mSolution\u001b[39;00m:\n\u001b[1;32m      8\u001b[0m     \u001b[38;5;28;01mdef\u001b[39;00m \u001b[38;5;21msearchBST\u001b[39m(\u001b[38;5;28mself\u001b[39m, root: Optional[TreeNode], val: \u001b[38;5;28mint\u001b[39m) \u001b[38;5;241m-\u001b[39m\u001b[38;5;241m>\u001b[39m Optional[TreeNode]:\n\u001b[1;32m     10\u001b[0m         \u001b[38;5;28;01mdef\u001b[39;00m \u001b[38;5;21mtraversal\u001b[39m(node):\n",
      "Cell \u001b[0;32mIn[2], line 8\u001b[0m, in \u001b[0;36mSolution\u001b[0;34m()\u001b[0m\n\u001b[1;32m      7\u001b[0m \u001b[38;5;28;01mclass\u001b[39;00m \u001b[38;5;21;01mSolution\u001b[39;00m:\n\u001b[0;32m----> 8\u001b[0m     \u001b[38;5;28;01mdef\u001b[39;00m \u001b[38;5;21msearchBST\u001b[39m(\u001b[38;5;28mself\u001b[39m, root: Optional[TreeNode], val: \u001b[38;5;28mint\u001b[39m) \u001b[38;5;241m-\u001b[39m\u001b[38;5;241m>\u001b[39m Optional[TreeNode]:\n\u001b[1;32m     10\u001b[0m         \u001b[38;5;28;01mdef\u001b[39;00m \u001b[38;5;21mtraversal\u001b[39m(node):\n\u001b[1;32m     11\u001b[0m             \u001b[38;5;28;01mif\u001b[39;00m \u001b[38;5;129;01mnot\u001b[39;00m node:\n",
      "\u001b[0;31mNameError\u001b[0m: name 'Optional' is not defined"
     ]
    }
   ],
   "source": [
    "# Definition for a binary tree node.\n",
    "# class TreeNode:\n",
    "#     def __init__(self, val=0, left=None, right=None):\n",
    "#         self.val = val\n",
    "#         self.left = left\n",
    "#         self.right = right\n",
    "class Solution:\n",
    "    def searchBST(self, root: Optional[TreeNode], val: int) -> Optional[TreeNode]:\n",
    "\n",
    "        def traversal(node):\n",
    "            if not node:\n",
    "                return []\n",
    "            # Preorder traversal: root -> left -> right\n",
    "            s = [node.val]\n",
    "            s += traversal(node.left)\n",
    "            s += traversal(node.right)\n",
    "            return s\n",
    "\n",
    "        if root is None:\n",
    "            return None\n",
    "\n",
    "\n",
    "        if root.val == val:\n",
    "            t = traversal(root)\n",
    "            print(t)\n",
    "            return root\n",
    "        elif root.val < val:\n",
    "            if root.right:\n",
    "                if root.right == val:\n",
    "                    root.val == root.right\n",
    "                    t = traversal(root)\n",
    "                    print(t)\n",
    "                else:\n",
    "                    return self.searchBST(root.right, val)\n",
    "            else:\n",
    "                return None\n",
    "                \n",
    "        elif root.val > val:\n",
    "            if root.left:\n",
    "                if root.left == val:\n",
    "                    root.val == root.left\n",
    "                    t = traversal(root)\n",
    "                    print(t)\n",
    "                else:\n",
    "                    return self.searchBST(root.left, val)\n",
    "            else:\n",
    "                return None"
   ]
  }
 ],
 "metadata": {
  "kernelspec": {
   "display_name": "Python 3 (ipykernel)",
   "language": "python",
   "name": "python3"
  },
  "language_info": {
   "codemirror_mode": {
    "name": "ipython",
    "version": 3
   },
   "file_extension": ".py",
   "mimetype": "text/x-python",
   "name": "python",
   "nbconvert_exporter": "python",
   "pygments_lexer": "ipython3",
   "version": "3.11.5"
  }
 },
 "nbformat": 4,
 "nbformat_minor": 5
}
