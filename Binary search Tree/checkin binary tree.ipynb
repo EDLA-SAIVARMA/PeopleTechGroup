{
 "cells": [
  {
   "cell_type": "code",
   "execution_count": null,
   "id": "74d5f4a6",
   "metadata": {},
   "outputs": [],
   "source": [
    "class Node:\n",
    "    def __init__(self, data):\n",
    "        self.data = data\n",
    "        self.left = None\n",
    "        self.right = None\n",
    "\n",
    "def is_bst(node, lower_limit, upper_limit):\n",
    "    # An empty node (leaf node) is considered a valid BST\n",
    "    if node is None:\n",
    "        return True\n",
    "    \n",
    "    # The current node's value must be within the defined limits\n",
    "    if not (lower_limit < node.data < upper_limit):\n",
    "        return False\n",
    "    \n",
    "    # Recursively check the left and right subtrees with updated limits\n",
    "    return (is_bst(node.left, lower_limit, node.data) and\n",
    "            is_bst(node.right, node.data, upper_limit))\n",
    "\n",
    "def check_binary_search_tree_(root):\n",
    "    # Start with the full range of possible values for the root\n",
    "    return is_bst(root, float('-inf'), float('inf'))\n"
   ]
  }
 ],
 "metadata": {
  "kernelspec": {
   "display_name": "Python 3 (ipykernel)",
   "language": "python",
   "name": "python3"
  },
  "language_info": {
   "codemirror_mode": {
    "name": "ipython",
    "version": 3
   },
   "file_extension": ".py",
   "mimetype": "text/x-python",
   "name": "python",
   "nbconvert_exporter": "python",
   "pygments_lexer": "ipython3",
   "version": "3.11.5"
  }
 },
 "nbformat": 4,
 "nbformat_minor": 5
}
