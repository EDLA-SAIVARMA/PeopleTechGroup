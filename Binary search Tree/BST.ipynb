{
 "cells": [
  {
   "cell_type": "code",
   "execution_count": 42,
   "id": "10ecbb8d",
   "metadata": {},
   "outputs": [
    {
     "name": "stdout",
     "output_type": "stream",
     "text": [
      "True\n",
      "traversal sorted is: [8, 9, 10, 17, 23, 37, 88]\n"
     ]
    }
   ],
   "source": [
    "class Binarysearchtree:\n",
    "    def __init__(self,data):\n",
    "        self.data = data\n",
    "        self.left = None\n",
    "        self.right = None\n",
    "    \n",
    "    def addchild(self,data):\n",
    "        if self.data == data:\n",
    "            return\n",
    "        if data < self.data:\n",
    "            if self.left:\n",
    "                self.left.addchild(data)\n",
    "            else:\n",
    "                self.left = Binarysearchtree(data)\n",
    "        else:\n",
    "            if self.right:\n",
    "                self.right.addchild(data)\n",
    "            else:\n",
    "                self.right = Binarysearchtree(data)\n",
    "                \n",
    "    def search(self, val):\n",
    "        if self.data == val:\n",
    "            return True\n",
    "        if val<self.data:\n",
    "            if self.left:\n",
    "                return self.left.search(val)\n",
    "            else:\n",
    "                return False\n",
    "        else:\n",
    "            if self.right:\n",
    "                return self.right.search(val)\n",
    "            else:\n",
    "                return False\n",
    "            \n",
    "    def in_order_traversal(self):\n",
    "        sorted = []\n",
    "        \n",
    "        if self.left:\n",
    "            sorted = sorted + self.left.in_order_traversal()\n",
    "        sorted.append(self.data)\n",
    "        if self.right:\n",
    "            sorted = sorted + self.right.in_order_traversal()\n",
    "            \n",
    "        return sorted\n",
    "        \n",
    "        \n",
    "\n",
    "def build_tree(elements):\n",
    "    root = Binarysearchtree(elements[0])\n",
    "    \n",
    "    for i in range(1,len(elements)):\n",
    "        root.addchild(elements[i])\n",
    "        \n",
    "    return root\n",
    "\n",
    "if __name__ == \"__main__\":\n",
    "\n",
    "    elements = [17,10,8,9,23,37,88]\n",
    "    build = build_tree(elements)\n",
    "    \n",
    "    s = build.search(10)\n",
    "    print(s)\n",
    "    \n",
    "    print(\"traversal sorted is:\" , build.in_order_traversal())"
   ]
  }
 ],
 "metadata": {
  "kernelspec": {
   "display_name": "Python 3 (ipykernel)",
   "language": "python",
   "name": "python3"
  },
  "language_info": {
   "codemirror_mode": {
    "name": "ipython",
    "version": 3
   },
   "file_extension": ".py",
   "mimetype": "text/x-python",
   "name": "python",
   "nbconvert_exporter": "python",
   "pygments_lexer": "ipython3",
   "version": "3.11.5"
  }
 },
 "nbformat": 4,
 "nbformat_minor": 5
}
