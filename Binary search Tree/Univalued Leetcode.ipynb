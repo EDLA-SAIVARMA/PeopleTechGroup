{
 "cells": [
  {
   "cell_type": "code",
   "execution_count": null,
   "id": "25b87838",
   "metadata": {},
   "outputs": [],
   "source": [
    "class Solution:\n",
    "    def isUnivalTree(self, root: Optional[TreeNode]) -> bool:\n",
    "        \n",
    "        if not root:\n",
    "            return True\n",
    "        if root.left == None and root.right == None:\n",
    "            return True\n",
    "        \n",
    "        if root.left:\n",
    "            if root.left.val == root.val:\n",
    "                if not self.isUnivalTree(root.left):\n",
    "                    return False\n",
    "            else:\n",
    "                return False\n",
    "        if root.right:\n",
    "            if root.right.val == root.val:\n",
    "                if not self.isUnivalTree(root.right):\n",
    "                    return False\n",
    "            else:\n",
    "                return False\n",
    "\n",
    "        else:\n",
    "            if root.left == None and root.right == None:\n",
    "                return True\n",
    "        return True"
   ]
  }
 ],
 "metadata": {
  "kernelspec": {
   "display_name": "Python 3 (ipykernel)",
   "language": "python",
   "name": "python3"
  },
  "language_info": {
   "codemirror_mode": {
    "name": "ipython",
    "version": 3
   },
   "file_extension": ".py",
   "mimetype": "text/x-python",
   "name": "python",
   "nbconvert_exporter": "python",
   "pygments_lexer": "ipython3",
   "version": "3.11.5"
  }
 },
 "nbformat": 4,
 "nbformat_minor": 5
}
