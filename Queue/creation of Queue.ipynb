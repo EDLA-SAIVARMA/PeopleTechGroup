{
 "cells": [
  {
   "cell_type": "markdown",
   "id": "4e91dab9",
   "metadata": {},
   "source": [
    "# creation of queue"
   ]
  },
  {
   "cell_type": "code",
   "execution_count": 18,
   "id": "e5ac1120",
   "metadata": {},
   "outputs": [
    {
     "name": "stdout",
     "output_type": "stream",
     "text": [
      "deque([10, 20, 30])\n",
      "Front value is: 10\n",
      "rear value is: 30\n",
      "deque([20, 30, 40])\n",
      "Front value is: 20\n",
      "rear value is: 40\n"
     ]
    }
   ],
   "source": [
    "from collections import deque\n",
    "\n",
    "data = deque()\n",
    "\n",
    "data.append(10)\n",
    "data.append(20)\n",
    "data.append(30)\n",
    "print(data)\n",
    "findfront(data)\n",
    "findrear(data)\n",
    "data.popleft()\n",
    "data.append(40)\n",
    "print(data)\n",
    "\n",
    "def findfront(data):\n",
    "    if data:\n",
    "        print(\"Front value is:\" ,data[0])\n",
    "    else:\n",
    "        print(\"is empty\")\n",
    "        \n",
    "def findrear(data):\n",
    "    if data:\n",
    "        print(\"rear value is:\" ,data[-1])\n",
    "    else:\n",
    "        print(\"empty\")\n",
    "        \n",
    "findfront(data)\n",
    "findrear(data)"
   ]
  }
 ],
 "metadata": {
  "kernelspec": {
   "display_name": "Python 3 (ipykernel)",
   "language": "python",
   "name": "python3"
  },
  "language_info": {
   "codemirror_mode": {
    "name": "ipython",
    "version": 3
   },
   "file_extension": ".py",
   "mimetype": "text/x-python",
   "name": "python",
   "nbconvert_exporter": "python",
   "pygments_lexer": "ipython3",
   "version": "3.11.5"
  }
 },
 "nbformat": 4,
 "nbformat_minor": 5
}
