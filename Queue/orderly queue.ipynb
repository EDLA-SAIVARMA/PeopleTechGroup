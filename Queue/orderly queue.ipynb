{
 "cells": [
  {
   "cell_type": "code",
   "execution_count": 11,
   "id": "af1b5776",
   "metadata": {},
   "outputs": [],
   "source": [
    "class Solution:\n",
    "    def orderlyQueue(self, s: str, k: int) -> str:\n",
    "        # If k > 1, we can sort the string to get the smallest lexicographical order\n",
    "        if k > 1:\n",
    "            return ''.join(sorted(s))\n",
    "        \n",
    "        # If k == 1, we need to find the smallest lexicographical rotation of the string\n",
    "        m = s  # Initialize m with the original string\n",
    "        for i in range(1, len(s)):\n",
    "            # Generate the rotated string by slicing\n",
    "            rotated = s[i:] + s[:i]\n",
    "            # Update m to be the smallest lexicographical string\n",
    "            m = min(m, rotated)\n",
    "            \n",
    "            \n",
    "            \n",
    "        \n",
    "        return m"
   ]
  }
 ],
 "metadata": {
  "kernelspec": {
   "display_name": "Python 3 (ipykernel)",
   "language": "python",
   "name": "python3"
  },
  "language_info": {
   "codemirror_mode": {
    "name": "ipython",
    "version": 3
   },
   "file_extension": ".py",
   "mimetype": "text/x-python",
   "name": "python",
   "nbconvert_exporter": "python",
   "pygments_lexer": "ipython3",
   "version": "3.11.5"
  }
 },
 "nbformat": 4,
 "nbformat_minor": 5
}
