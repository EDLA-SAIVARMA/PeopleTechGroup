{
 "cells": [
  {
   "cell_type": "code",
   "execution_count": null,
   "id": "53e1cca8",
   "metadata": {},
   "outputs": [],
   "source": [
    "class MyCircularQueue:\n",
    "    def __init__(self, k: int):\n",
    "        # Initialize the queue with a fixed size k\n",
    "        self.q = [0] * k\n",
    "        # Initialize the front pointer to 0\n",
    "        self.front = 0\n",
    "        # Initialize the size of the queue to 0\n",
    "        self.size = 0\n",
    "        # Store the capacity of the queue\n",
    "        self.capacity = k\n",
    "\n",
    "    def enQueue(self, value: int) -> bool:\n",
    "        # Check if the queue is full\n",
    "        if self.isFull():\n",
    "            return False\n",
    "        # Calculate the index to insert the new value\n",
    "        idx = (self.front + self.size) % self.capacity\n",
    "        # Insert the new value\n",
    "        self.q[idx] = value\n",
    "        # Increment the size of the queue\n",
    "        self.size += 1\n",
    "        return True\n",
    "\n",
    "    def deQueue(self) -> bool:\n",
    "        # Check if the queue is empty\n",
    "        if self.isEmpty():\n",
    "            return False\n",
    "        # Move the front pointer to the next position\n",
    "        self.front = (self.front + 1) % self.capacity\n",
    "        # Decrement the size of the queue\n",
    "        self.size -= 1\n",
    "        return True\n",
    "\n",
    "    def Front(self) -> int:\n",
    "        # Return -1 if the queue is empty, otherwise return the front element\n",
    "        return -1 if self.isEmpty() else self.q[self.front]\n",
    "\n",
    "    def Rear(self) -> int:\n",
    "        # Return -1 if the queue is empty\n",
    "        if self.isEmpty():\n",
    "            return -1\n",
    "        # Calculate the index of the last element\n",
    "        idx = (self.front + self.size - 1) % self.capacity\n",
    "        # Return the last element\n",
    "        return self.q[idx]\n",
    "\n",
    "    def isEmpty(self) -> bool:\n",
    "        # Check if the queue is empty\n",
    "        return self.size == 0\n",
    "\n",
    "    def isFull(self) -> bool:\n",
    "        # Check if the queue is full\n",
    "        return self.size == self.capacity"
   ]
  }
 ],
 "metadata": {
  "kernelspec": {
   "display_name": "Python 3 (ipykernel)",
   "language": "python",
   "name": "python3"
  },
  "language_info": {
   "codemirror_mode": {
    "name": "ipython",
    "version": 3
   },
   "file_extension": ".py",
   "mimetype": "text/x-python",
   "name": "python",
   "nbconvert_exporter": "python",
   "pygments_lexer": "ipython3",
   "version": "3.11.5"
  }
 },
 "nbformat": 4,
 "nbformat_minor": 5
}
