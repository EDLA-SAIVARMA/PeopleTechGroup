{
 "cells": [
  {
   "cell_type": "code",
   "execution_count": null,
   "id": "3a248b84",
   "metadata": {},
   "outputs": [],
   "source": [
    "Hacker Rank: Queue using two stacks"
   ]
  },
  {
   "cell_type": "code",
   "execution_count": 2,
   "id": "a1486889",
   "metadata": {},
   "outputs": [
    {
     "name": "stdout",
     "output_type": "stream",
     "text": [
      "10\n",
      "1 42\n",
      "2\n",
      "1 14\n",
      "3\n",
      "14\n",
      "1 28\n",
      "3\n",
      "14\n",
      "1 60\n",
      "1 78\n",
      "2\n",
      "2\n"
     ]
    }
   ],
   "source": [
    "from collections import deque\n",
    "#creating a queue \n",
    "data = deque()\n",
    "#method to print top element in the queue\n",
    "def ffront(data):\n",
    "    if data:\n",
    "        print(data[0])\n",
    "    else:\n",
    "        return None\n",
    "\n",
    "n = int(input()) # Taking input\n",
    "for i in range(n):\n",
    "    inputa = list(map(int, input().rstrip().split())) #converting the input list\n",
    "    if inputa[0] == 1: #checking for enqueue\n",
    "        data.append(inputa[1])\n",
    "    elif inputa[0] == 2: #checking for dequeue\n",
    "        data.popleft() #pop out the front value\n",
    "    else:\n",
    "        ffront(data) # calling the method\n",
    "    "
   ]
  }
 ],
 "metadata": {
  "kernelspec": {
   "display_name": "Python 3 (ipykernel)",
   "language": "python",
   "name": "python3"
  },
  "language_info": {
   "codemirror_mode": {
    "name": "ipython",
    "version": 3
   },
   "file_extension": ".py",
   "mimetype": "text/x-python",
   "name": "python",
   "nbconvert_exporter": "python",
   "pygments_lexer": "ipython3",
   "version": "3.11.5"
  }
 },
 "nbformat": 4,
 "nbformat_minor": 5
}
