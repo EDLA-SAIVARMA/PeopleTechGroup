{
 "cells": [
  {
   "cell_type": "code",
   "execution_count": 72,
   "id": "12c75972",
   "metadata": {},
   "outputs": [
    {
     "name": "stdout",
     "output_type": "stream",
     "text": [
      "136.66666666666666\n"
     ]
    }
   ],
   "source": [
    "class Item:\n",
    "    def __init__(self, profit, weight):\n",
    "        self.profit = profit  \n",
    "        self.weight = weight  \n",
    "\n",
    "\n",
    "def fractionalKnapsack(W, items):\n",
    "    # Define a function that returns the profit-to-weight ratio of an item\n",
    "    def get_ratio(item):\n",
    "        return item.profit / item.weight\n",
    "\n",
    "    items.sort(key=get_ratio, reverse=True)\n",
    "\n",
    "    total_profit = 0.0 \n",
    "    for item in items:\n",
    "        if item.weight <= W:\n",
    "            # If the whole item can be taken, take it\n",
    "            W -= item.weight\n",
    "            total_profit += item.profit\n",
    "        else:\n",
    "            # Take the fractional part of the item that fits\n",
    "            total_profit += item.profit * (W / item.weight)\n",
    "            break  # No more items can be taken, so exit the loop\n",
    "\n",
    "    return total_profit \n",
    "\n",
    "\n",
    "if __name__ == \"__main__\":\n",
    "    W = 50  # Capacity of the knapsack\n",
    "    items = [Item(50, 10), Item(25, 15), Item(60, 20), Item(10, 30)]\n",
    "\n",
    "    max_profit = fractionalKnapsack(W, items)\n",
    "    print(max_profit)  \n"
   ]
  }
 ],
 "metadata": {
  "kernelspec": {
   "display_name": "Python 3 (ipykernel)",
   "language": "python",
   "name": "python3"
  },
  "language_info": {
   "codemirror_mode": {
    "name": "ipython",
    "version": 3
   },
   "file_extension": ".py",
   "mimetype": "text/x-python",
   "name": "python",
   "nbconvert_exporter": "python",
   "pygments_lexer": "ipython3",
   "version": "3.11.5"
  }
 },
 "nbformat": 4,
 "nbformat_minor": 5
}
