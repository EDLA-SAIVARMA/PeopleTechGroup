{
 "cells": [
  {
   "cell_type": "code",
   "execution_count": 10,
   "id": "09ff4a3f",
   "metadata": {},
   "outputs": [
    {
     "name": "stdout",
     "output_type": "stream",
     "text": [
      "5\n",
      "2 4 6 8 3\n",
      "\n",
      "2 4 6 8 8\n",
      "\n",
      "2 4 6 6 8\n",
      "\n",
      "2 4 4 6 8\n"
     ]
    }
   ],
   "source": [
    "import math\n",
    "import os\n",
    "import random\n",
    "import re\n",
    "import sys\n",
    "\n",
    "#\n",
    "# Complete the 'insertionSort1' function below.\n",
    "#\n",
    "# The function accepts following parameters:\n",
    "#  1. INTEGER n\n",
    "#  2. INTEGER_ARRAY arr\n",
    "#\n",
    "\n",
    "def insertionSort1(n, a):\n",
    "    # Write your code here\n",
    "    e = n-1\n",
    "    #checking whether the previous index value is less than the present index value\n",
    "    while (a[e] < a[e-1] and e >0):\n",
    "        print()\n",
    "        temp = a[e] # using temp variable and sorting like insertion sort\n",
    "        a[e] = a[e-1]\n",
    "        b = ' '.join(map(str, a)) # converting list to string\n",
    "        print(b)\n",
    "        a[e-1] = temp\n",
    "        e = e-1\n",
    "\n",
    "if __name__ == '__main__':\n",
    "    n = int(input().strip())\n",
    "\n",
    "    a = list(map(int, input().rstrip().split()))\n",
    "\n",
    "    insertionSort1(n, a)"
   ]
  }
 ],
 "metadata": {
  "kernelspec": {
   "display_name": "Python 3 (ipykernel)",
   "language": "python",
   "name": "python3"
  },
  "language_info": {
   "codemirror_mode": {
    "name": "ipython",
    "version": 3
   },
   "file_extension": ".py",
   "mimetype": "text/x-python",
   "name": "python",
   "nbconvert_exporter": "python",
   "pygments_lexer": "ipython3",
   "version": "3.11.5"
  }
 },
 "nbformat": 4,
 "nbformat_minor": 5
}
