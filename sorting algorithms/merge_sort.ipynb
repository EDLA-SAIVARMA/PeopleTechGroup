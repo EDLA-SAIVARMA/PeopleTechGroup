{
 "cells": [
  {
   "cell_type": "code",
   "execution_count": 8,
   "id": "8b15f398",
   "metadata": {},
   "outputs": [
    {
     "name": "stdout",
     "output_type": "stream",
     "text": [
      "[3, 7, 8, 10, 15, 23, 29, 98]\n",
      "[]\n",
      "[3]\n",
      "[2, 7, 8, 9]\n",
      "[1, 2, 3, 4, 5]\n"
     ]
    }
   ],
   "source": [
    "def merge(arr):\n",
    "    \n",
    "    if len(arr)<=1:\n",
    "        return\n",
    "    \n",
    "    mid = len(arr)//2\n",
    "    # Dividing the array into two parts\n",
    "    # Divide and Conquer\n",
    "    left = arr[:mid]\n",
    "    right = arr[mid:]\n",
    "    \n",
    "    #recursion\n",
    "    merge(left)\n",
    "    merge(right)\n",
    "    \n",
    "    merge_sort_link(left,right,arr)\n",
    "    \n",
    "def merge_sort_link(a,b,arr):\n",
    "    i = j = k =0\n",
    "    \n",
    "    len_a = len(a)\n",
    "    len_b = len(b)\n",
    "    \n",
    "    while i<len_a and j < len_b:\n",
    "        if a[i] <= b[j]:\n",
    "            arr[k] = a[i]\n",
    "            i +=1\n",
    "        else:\n",
    "            arr[k] = b[j]\n",
    "            j += 1\n",
    "        k +=1\n",
    "    while i < len_a:\n",
    "        arr[k] = a[i]\n",
    "        i +=1\n",
    "        k +=1\n",
    "    while j < len_b:\n",
    "        arr[k] = b[j]\n",
    "        j +=1\n",
    "        k +=1\n",
    "    return arr\n",
    "    \n",
    "\n",
    "\n",
    "\n",
    "\n",
    "\n",
    "if __name__ == '__main__':\n",
    "    testcase = [[10, 3, 15, 7, 8, 23, 98, 29],\n",
    "        [],\n",
    "        [3],\n",
    "        [9,8,7,2],\n",
    "        [1,2,3,4,5]]\n",
    "    for arr in testcase:\n",
    "        merge(arr)\n",
    "        print(arr)"
   ]
  }
 ],
 "metadata": {
  "kernelspec": {
   "display_name": "Python 3 (ipykernel)",
   "language": "python",
   "name": "python3"
  },
  "language_info": {
   "codemirror_mode": {
    "name": "ipython",
    "version": 3
   },
   "file_extension": ".py",
   "mimetype": "text/x-python",
   "name": "python",
   "nbconvert_exporter": "python",
   "pygments_lexer": "ipython3",
   "version": "3.11.5"
  }
 },
 "nbformat": 4,
 "nbformat_minor": 5
}
