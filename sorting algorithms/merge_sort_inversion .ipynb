{
 "cells": [
  {
   "cell_type": "code",
   "execution_count": 88,
   "id": "cac42db4",
   "metadata": {},
   "outputs": [
    {
     "name": "stdout",
     "output_type": "stream",
     "text": [
      "2\n",
      "4\n",
      "1 5 3 7\n",
      "1\n",
      "4\n",
      "7 5 3 1\n",
      "4\n"
     ]
    }
   ],
   "source": [
    "def merge_sort(arr):\n",
    "    if len(arr) <= 1:\n",
    "        return 0\n",
    "\n",
    "    mid = len(arr) // 2\n",
    "\n",
    "    left = arr[:mid]\n",
    "    right = arr[mid:]\n",
    "\n",
    "    # Sort the left and right halves and count the inversions\n",
    "    inversions = merge_sort(left)\n",
    "    inversions += merge_sort(right)\n",
    "\n",
    "    # Merge the two halves and count the inversions during the merge\n",
    "    inversions += merge_two_sorted_lists(left, right, arr)\n",
    "\n",
    "    return inversions\n",
    "\n",
    "def merge_two_sorted_lists(a, b, arr):\n",
    "    len_a = len(a)\n",
    "    len_b = len(b)\n",
    "\n",
    "    i = j = k = 0\n",
    "    inversions = 0\n",
    "\n",
    "    while i < len_a and j < len_b:\n",
    "        if a[i] <= b[j]:\n",
    "            arr[k] = a[i]\n",
    "            i += 1\n",
    "        else:\n",
    "            arr[k] = b[j]\n",
    "            j += 1\n",
    "            inversions += 1  # All remaining elements in a[i:] are greater than b[j]\n",
    "        k += 1\n",
    "\n",
    "    while i < len_a:\n",
    "        arr[k] = a[i]\n",
    "        i += 1\n",
    "        k += 1\n",
    "\n",
    "    while j < len_b:\n",
    "        arr[k] = b[j]\n",
    "        j += 1\n",
    "        k += 1\n",
    "\n",
    "    return inversions\n",
    "\n",
    "def countInversions(arr):\n",
    "    return merge_sort(arr)\n",
    "\n",
    "if __name__ == '__main__':\n",
    "    num_datasets = int(input().strip())\n",
    "    for _ in range(num_datasets):\n",
    "        n = int(input().strip())\n",
    "        arr = list(map(int, input().strip().split()))\n",
    "        result = countInversions(arr)\n",
    "        print(result)\n"
   ]
  }
 ],
 "metadata": {
  "kernelspec": {
   "display_name": "Python 3 (ipykernel)",
   "language": "python",
   "name": "python3"
  },
  "language_info": {
   "codemirror_mode": {
    "name": "ipython",
    "version": 3
   },
   "file_extension": ".py",
   "mimetype": "text/x-python",
   "name": "python",
   "nbconvert_exporter": "python",
   "pygments_lexer": "ipython3",
   "version": "3.11.5"
  }
 },
 "nbformat": 4,
 "nbformat_minor": 5
}
