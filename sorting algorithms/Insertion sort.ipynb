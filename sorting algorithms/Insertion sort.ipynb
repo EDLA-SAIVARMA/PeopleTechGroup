{
 "cells": [
  {
   "cell_type": "code",
   "execution_count": 13,
   "id": "ab5ff058",
   "metadata": {},
   "outputs": [
    {
     "name": "stdout",
     "output_type": "stream",
     "text": [
      "[1, 2, 3, 4, 5, 6]\n",
      "[3]\n",
      "[0, 2, 4]\n"
     ]
    }
   ],
   "source": [
    "def Insertion_sort(a):\n",
    "    for i in range(1, len(a)):\n",
    "        j = i\n",
    "        while(a[j-1]>a[j] and j>0):\n",
    "            a[j-1], a[j] = a[j], a[j-1]\n",
    "            j = j-1\n",
    "\n",
    "items = [[2,3,6,5,1,4],\n",
    "        [3],\n",
    "        [0,4,2]]\n",
    "\n",
    "for a in items:\n",
    "    Insertion_sort(a)\n",
    "    print(a)"
   ]
  },
  {
   "cell_type": "code",
   "execution_count": 20,
   "id": "17dd596d",
   "metadata": {},
   "outputs": [
    {
     "name": "stdout",
     "output_type": "stream",
     "text": [
      "a[j] is: 5\n",
      "anchor value is: 6\n",
      "a[j] is: 1\n",
      "anchor value is: 6\n",
      "a[j] is: 1\n",
      "anchor value is: 5\n",
      "a[j] is: 1\n",
      "anchor value is: 3\n",
      "a[j] is: 1\n",
      "anchor value is: 2\n",
      "a[j] is: 4\n",
      "anchor value is: 6\n",
      "a[j] is: 4\n",
      "anchor value is: 5\n",
      "[1, 2, 3, 4, 5, 6]\n"
     ]
    }
   ],
   "source": [
    "def Insertion_sort(a):\n",
    "    for i in range(1, len(a)):\n",
    "        j = i\n",
    "        anchor = a[j]\n",
    "        while(a[j-1]>a[j] and j>0):\n",
    "            print(\"a[j] is:\" ,a[j])\n",
    "            anchor = a[j-1]\n",
    "            a[j-1] = a[j]\n",
    "            a[j] = anchor\n",
    "            j = j-1\n",
    "\n",
    "items = [[2,3,6,5,1,4]]\n",
    "\n",
    "for a in items:\n",
    "    Insertion_sort(a)\n",
    "    print(a)"
   ]
  }
 ],
 "metadata": {
  "kernelspec": {
   "display_name": "Python 3 (ipykernel)",
   "language": "python",
   "name": "python3"
  },
  "language_info": {
   "codemirror_mode": {
    "name": "ipython",
    "version": 3
   },
   "file_extension": ".py",
   "mimetype": "text/x-python",
   "name": "python",
   "nbconvert_exporter": "python",
   "pygments_lexer": "ipython3",
   "version": "3.11.5"
  }
 },
 "nbformat": 4,
 "nbformat_minor": 5
}
