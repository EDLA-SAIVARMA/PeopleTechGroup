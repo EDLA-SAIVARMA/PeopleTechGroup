{
 "cells": [
  {
   "cell_type": "code",
   "execution_count": null,
   "id": "a012ed3b",
   "metadata": {},
   "outputs": [],
   "source": [
    "class Solution:\n",
    "    def romanToInt(self, s: str) -> int:\n",
    "        roman_to_int = {\n",
    "            'I': 1,\n",
    "            'V': 5,\n",
    "            'X': 10,\n",
    "            'L': 50,\n",
    "            'C': 100,\n",
    "            'D': 500,\n",
    "            'M': 1000\n",
    "        }\n",
    "        \n",
    "        # Initialize the variable 'a' which will replace 'dp'\n",
    "        n = len(s)\n",
    "        a = [0] * (n + 1)\n",
    "        \n",
    "        # Fill the 'a' array\n",
    "        for i in range(n):\n",
    "            a[i + 1] = roman_to_int[s[i]]\n",
    "        \n",
    "        # Compute the result using the 'a' array\n",
    "        total = 0\n",
    "        for i in range(1, n + 1):\n",
    "            if i > 1 and a[i] > a[i - 1]:\n",
    "                total += a[i] - 2 * a[i - 1]\n",
    "            else:\n",
    "                total += a[i]\n",
    "        \n",
    "        return total"
   ]
  }
 ],
 "metadata": {
  "kernelspec": {
   "display_name": "Python 3 (ipykernel)",
   "language": "python",
   "name": "python3"
  },
  "language_info": {
   "codemirror_mode": {
    "name": "ipython",
    "version": 3
   },
   "file_extension": ".py",
   "mimetype": "text/x-python",
   "name": "python",
   "nbconvert_exporter": "python",
   "pygments_lexer": "ipython3",
   "version": "3.11.5"
  }
 },
 "nbformat": 4,
 "nbformat_minor": 5
}
