{
 "cells": [
  {
   "cell_type": "code",
   "execution_count": 11,
   "id": "0d76e08a",
   "metadata": {},
   "outputs": [
    {
     "name": "stdout",
     "output_type": "stream",
     "text": [
      "True\n",
      "False\n",
      "True\n",
      "False\n",
      "True\n"
     ]
    }
   ],
   "source": [
    "def cansum(targetsum,numbers):\n",
    "    \n",
    "    if targetsum in dic:\n",
    "        return dic[targetsum]\n",
    "    \n",
    "    if targetsum == 0:\n",
    "        return True\n",
    "    if targetsum < 0:\n",
    "        return False\n",
    "    \n",
    "    for i in range(0,len(numbers)):\n",
    "        remainder = targetsum - numbers[i]\n",
    "        if cansum(remainder, numbers) is True:\n",
    "            return True\n",
    "        else:\n",
    "            dic[remainder] = False\n",
    "    return False\n",
    "    \n",
    "if __name__ == \"__main__\":\n",
    "    dic = {}\n",
    "    print(cansum(7,[5,2,3,7]))\n",
    "    print(cansum(7,[2,4]))\n",
    "    print(cansum(8,[2,3,5]))\n",
    "    print(cansum(300,[7,14]))\n",
    "    print(cansum(7,[2,3]))"
   ]
  }
 ],
 "metadata": {
  "kernelspec": {
   "display_name": "Python 3 (ipykernel)",
   "language": "python",
   "name": "python3"
  },
  "language_info": {
   "codemirror_mode": {
    "name": "ipython",
    "version": 3
   },
   "file_extension": ".py",
   "mimetype": "text/x-python",
   "name": "python",
   "nbconvert_exporter": "python",
   "pygments_lexer": "ipython3",
   "version": "3.11.5"
  }
 },
 "nbformat": 4,
 "nbformat_minor": 5
}
