{
 "cells": [
  {
   "cell_type": "code",
   "execution_count": null,
   "id": "ce62fc36",
   "metadata": {},
   "outputs": [],
   "source": [
    "class Solution:\n",
    "    def generate(self, numRows: int) -> List[List[int]]:\n",
    "        dp = [[0 for _ in range(i+1)] for i in range(numRows)]\n",
    "        \n",
    "        for i in range(numRows):\n",
    "            for j in range(i+1):\n",
    "                # Base cases: first and last elements in a row are 1\n",
    "                if j == 0 or j == i:\n",
    "                    dp[i][j] = 1\n",
    "                else:\n",
    "                    # Fill DP table using the recurrence relation\n",
    "                    dp[i][j] = dp[i-1][j-1] + dp[i-1][j]\n",
    "\n",
    "        return dp\n",
    "        "
   ]
  }
 ],
 "metadata": {
  "kernelspec": {
   "display_name": "Python 3 (ipykernel)",
   "language": "python",
   "name": "python3"
  },
  "language_info": {
   "codemirror_mode": {
    "name": "ipython",
    "version": 3
   },
   "file_extension": ".py",
   "mimetype": "text/x-python",
   "name": "python",
   "nbconvert_exporter": "python",
   "pygments_lexer": "ipython3",
   "version": "3.11.5"
  }
 },
 "nbformat": 4,
 "nbformat_minor": 5
}
