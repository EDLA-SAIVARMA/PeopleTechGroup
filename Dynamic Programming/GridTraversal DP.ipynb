{
 "cells": [
  {
   "cell_type": "code",
   "execution_count": 13,
   "id": "e5bca138",
   "metadata": {},
   "outputs": [
    {
     "name": "stdout",
     "output_type": "stream",
     "text": [
      "1\n",
      "3\n",
      "3\n",
      "6\n",
      "2333606220\n"
     ]
    }
   ],
   "source": [
    "def gridTra(m,n):\n",
    "    \n",
    "    if m ==1 and n == 1:\n",
    "        return 1\n",
    "    if m == 0 or n == 0:\n",
    "        return 0\n",
    "    if (m,n) in dic:\n",
    "        p = dic[(m,n)]\n",
    "        return p\n",
    "    else:\n",
    "        dic[(m,n)]= gridTra(m-1,n) + gridTra(m,n-1)\n",
    "        \n",
    "    value = dic[m,n]\n",
    "    return value\n",
    "\n",
    "if __name__ == \"__main__\":\n",
    "    dic = {}\n",
    "    print(gridTra(1,1))\n",
    "    print(gridTra(2,3))\n",
    "    print(gridTra(3,2))\n",
    "    print(gridTra(3,3))\n",
    "    print(gridTra(18,18))"
   ]
  }
 ],
 "metadata": {
  "kernelspec": {
   "display_name": "Python 3 (ipykernel)",
   "language": "python",
   "name": "python3"
  },
  "language_info": {
   "codemirror_mode": {
    "name": "ipython",
    "version": 3
   },
   "file_extension": ".py",
   "mimetype": "text/x-python",
   "name": "python",
   "nbconvert_exporter": "python",
   "pygments_lexer": "ipython3",
   "version": "3.11.5"
  }
 },
 "nbformat": 4,
 "nbformat_minor": 5
}
