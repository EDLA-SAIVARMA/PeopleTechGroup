{
 "cells": [
  {
   "cell_type": "code",
   "execution_count": 16,
   "id": "0af2f47a",
   "metadata": {},
   "outputs": [
    {
     "name": "stdout",
     "output_type": "stream",
     "text": [
      "34\n"
     ]
    }
   ],
   "source": [
    "def fib(n):\n",
    "    \n",
    "    if n<=len(Fibarray): #checking if the value of the nth array element already exist in the array\n",
    "        return Fibarray[n-1]\n",
    "    \n",
    "    else:\n",
    "        Fibarray.append(fib(n-1)+fib(n-2))\n",
    "    return Fibarray[n-1]\n",
    "\n",
    "if __name__==\"__main__\":\n",
    "    Fibarray = [1,1] #initializing the fibonacci array\n",
    "    f=fib(9) #finding the nth fibonacci value\n",
    "    print(f) #printing the result"
   ]
  },
  {
   "cell_type": "code",
   "execution_count": null,
   "id": "99f67f3f",
   "metadata": {},
   "outputs": [],
   "source": []
  },
  {
   "cell_type": "code",
   "execution_count": null,
   "id": "58188ed8",
   "metadata": {},
   "outputs": [],
   "source": []
  },
  {
   "cell_type": "code",
   "execution_count": null,
   "id": "8fbb3cb1",
   "metadata": {},
   "outputs": [],
   "source": []
  },
  {
   "cell_type": "code",
   "execution_count": null,
   "id": "ba46b7ff",
   "metadata": {},
   "outputs": [],
   "source": []
  },
  {
   "cell_type": "code",
   "execution_count": null,
   "id": "282f80fd",
   "metadata": {},
   "outputs": [],
   "source": []
  },
  {
   "cell_type": "code",
   "execution_count": null,
   "id": "c1bcd6a5",
   "metadata": {},
   "outputs": [],
   "source": [
    "def fib(n):\n",
    "    # Base case: Return the precomputed Fibonacci number\n",
    "    if n <= len(Fibarray):\n",
    "        print(\"Fibarray\")\n",
    "        return Fibarray[n-1]\n",
    "    \n",
    "    # Recursive case: Calculate Fibonacci number, store it, and return it\n",
    "    else:\n",
    "        Fibarray.append(fib(n-1) + fib(n-2))\n",
    "        return Fibarray[n-1]\n",
    "\n",
    "if __name__ == \"__main__\":\n",
    "    # Initialize the Fibonacci array with the first two Fibonacci numbers\n",
    "    Fibarray = [1, 1]\n",
    "    \n",
    "    # Compute the 9th Fibonacci number\n",
    "    f = fib(9)\n",
    "    \n",
    "    # Print the result\n",
    "    print(f)\n"
   ]
  },
  {
   "cell_type": "code",
   "execution_count": null,
   "id": "e92ba1e6",
   "metadata": {},
   "outputs": [],
   "source": []
  },
  {
   "cell_type": "code",
   "execution_count": null,
   "id": "8d593d64",
   "metadata": {},
   "outputs": [],
   "source": []
  },
  {
   "cell_type": "code",
   "execution_count": null,
   "id": "21221ae3",
   "metadata": {},
   "outputs": [],
   "source": []
  },
  {
   "cell_type": "code",
   "execution_count": null,
   "id": "66553930",
   "metadata": {},
   "outputs": [],
   "source": []
  },
  {
   "cell_type": "code",
   "execution_count": null,
   "id": "1259295a",
   "metadata": {},
   "outputs": [],
   "source": []
  },
  {
   "cell_type": "code",
   "execution_count": null,
   "id": "5e9d52bb",
   "metadata": {},
   "outputs": [],
   "source": []
  },
  {
   "cell_type": "code",
   "execution_count": null,
   "id": "418b1a0b",
   "metadata": {},
   "outputs": [],
   "source": []
  },
  {
   "cell_type": "code",
   "execution_count": null,
   "id": "8b17e264",
   "metadata": {},
   "outputs": [],
   "source": []
  },
  {
   "cell_type": "code",
   "execution_count": null,
   "id": "65ef5a03",
   "metadata": {},
   "outputs": [],
   "source": []
  },
  {
   "cell_type": "code",
   "execution_count": 5,
   "id": "eecc13bd",
   "metadata": {},
   "outputs": [
    {
     "name": "stdout",
     "output_type": "stream",
     "text": [
      "34\n"
     ]
    }
   ],
   "source": [
    "# Function for nth fibonacci \n",
    "# number\n",
    "FibArray = [0, 1]\n",
    "\n",
    "def fibonacci(n):\n",
    "\n",
    "\t# Check is n is less \n",
    "\t# than 0\n",
    "\tif n < 0:\n",
    "\t\tprint(\"Incorrect input\")\n",
    "\t\t\n",
    "\t# Check is n is less \n",
    "\t# than len(FibArray)\n",
    "\telif n < len(FibArray):\n",
    "\t\treturn FibArray[n]\n",
    "\telse:\t \n",
    "\t\tFibArray.append(fibonacci(n - 1) + fibonacci(n - 2))\n",
    "\t\treturn FibArray[n]\n",
    "\n",
    "# Driver Program\n",
    "print(fibonacci(9))\n"
   ]
  }
 ],
 "metadata": {
  "kernelspec": {
   "display_name": "Python 3 (ipykernel)",
   "language": "python",
   "name": "python3"
  },
  "language_info": {
   "codemirror_mode": {
    "name": "ipython",
    "version": 3
   },
   "file_extension": ".py",
   "mimetype": "text/x-python",
   "name": "python",
   "nbconvert_exporter": "python",
   "pygments_lexer": "ipython3",
   "version": "3.11.5"
  }
 },
 "nbformat": 4,
 "nbformat_minor": 5
}
