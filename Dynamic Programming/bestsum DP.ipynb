{
 "cells": [
  {
   "cell_type": "code",
   "execution_count": 21,
   "id": "ec338574",
   "metadata": {},
   "outputs": [
    {
     "name": "stdout",
     "output_type": "stream",
     "text": [
      "[5, 3]\n"
     ]
    }
   ],
   "source": [
    "def howSum(targetsum, numbers, dic=None):\n",
    "    if dic is None:\n",
    "        dic = {}\n",
    "    \n",
    "    if targetsum in dic:\n",
    "        return dic[targetsum]\n",
    "    \n",
    "    if targetsum == 0:\n",
    "        return []\n",
    "    if targetsum < 0:\n",
    "        return None\n",
    "    \n",
    "    shortest_combination = None\n",
    "    for num in numbers:\n",
    "        remainder = targetsum - num\n",
    "        temp = howSum(remainder, numbers, dic)\n",
    "        if temp is not None:\n",
    "            combination = temp + [num]\n",
    "            if shortest_combination is None or len(combination) < len(shortest_combination):\n",
    "                shortest_combination = combination\n",
    "    \n",
    "    dic[targetsum] = shortest_combination\n",
    "    return shortest_combination\n",
    "\n",
    "if __name__ == \"__main__\":       \n",
    "    print(howSum(8, [2, 3, 5]))   "
   ]
  }
 ],
 "metadata": {
  "kernelspec": {
   "display_name": "Python 3 (ipykernel)",
   "language": "python",
   "name": "python3"
  },
  "language_info": {
   "codemirror_mode": {
    "name": "ipython",
    "version": 3
   },
   "file_extension": ".py",
   "mimetype": "text/x-python",
   "name": "python",
   "nbconvert_exporter": "python",
   "pygments_lexer": "ipython3",
   "version": "3.11.5"
  }
 },
 "nbformat": 4,
 "nbformat_minor": 5
}
