{
 "cells": [
  {
   "cell_type": "code",
   "execution_count": null,
   "id": "9296401f",
   "metadata": {},
   "outputs": [],
   "source": [
    "class Solution:\n",
    "    def minimumTotal(self, triangle: List[List[int]]) -> int:\n",
    "     # Start from the second-last row and move upwards\n",
    "        for row in range(len(triangle) - 2, -1, -1):\n",
    "            for col in range(len(triangle[row])):\n",
    "                \n",
    "                triangle[row][col] += min(triangle[row + 1][col], triangle[row + 1][col + 1])\n",
    "        \n",
    "        # The top element now contains the minimum path sum\n",
    "        return triangle[0][0]"
   ]
  }
 ],
 "metadata": {
  "kernelspec": {
   "display_name": "Python 3 (ipykernel)",
   "language": "python",
   "name": "python3"
  },
  "language_info": {
   "codemirror_mode": {
    "name": "ipython",
    "version": 3
   },
   "file_extension": ".py",
   "mimetype": "text/x-python",
   "name": "python",
   "nbconvert_exporter": "python",
   "pygments_lexer": "ipython3",
   "version": "3.11.5"
  }
 },
 "nbformat": 4,
 "nbformat_minor": 5
}
