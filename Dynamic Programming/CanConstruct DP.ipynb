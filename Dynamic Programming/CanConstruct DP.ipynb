{
 "cells": [
  {
   "cell_type": "code",
   "execution_count": 11,
   "id": "aa4761d5",
   "metadata": {},
   "outputs": [
    {
     "name": "stdout",
     "output_type": "stream",
     "text": [
      "cdef\n",
      "ef\n",
      "def\n",
      "\n",
      "True\n"
     ]
    }
   ],
   "source": [
    "def canconstruct(target, wordbank, ):\n",
    "    #if target in dic:\n",
    "        #return dic[target]\n",
    "    if target == \"\":\n",
    "        return True\n",
    "    \n",
    "    for word in wordbank:\n",
    "        # Check if the target starts with the current word\n",
    "        if target.startswith(word):\n",
    "            # Get the suffix after the current word\n",
    "            suffix = target[len(word):]\n",
    "            print(suffix)\n",
    "            # Recursively check if the suffix can be constructed\n",
    "            if canconstruct(suffix, wordbank):\n",
    "                #dic[target] = True\n",
    "                return True\n",
    "            \n",
    "    #dic[target] = False\n",
    "    return False\n",
    "\n",
    "if __name__ == \"__main__\":\n",
    "    print(canconstruct(\"abcdef\", [\"ab\", \"abc\", \"cd\", \"def\", \"abcd\"]))\n",
    "    print(canconstruct(\"eeeeeeeeeeeeeeeeeeef\", [\"e\", \"ee\", \"eeee\" ,\"eeeee\"]))\n"
   ]
  }
 ],
 "metadata": {
  "kernelspec": {
   "display_name": "Python 3 (ipykernel)",
   "language": "python",
   "name": "python3"
  },
  "language_info": {
   "codemirror_mode": {
    "name": "ipython",
    "version": 3
   },
   "file_extension": ".py",
   "mimetype": "text/x-python",
   "name": "python",
   "nbconvert_exporter": "python",
   "pygments_lexer": "ipython3",
   "version": "3.11.5"
  }
 },
 "nbformat": 4,
 "nbformat_minor": 5
}
